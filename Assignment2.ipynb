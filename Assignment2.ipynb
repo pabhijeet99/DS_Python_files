{
  "nbformat": 4,
  "nbformat_minor": 0,
  "metadata": {
    "colab": {
      "name": "Assignment2.ipynb",
      "provenance": [],
      "authorship_tag": "ABX9TyN5ereIi9S3XDFEZu1MWvIw",
      "include_colab_link": true
    },
    "kernelspec": {
      "name": "python3",
      "display_name": "Python 3"
    },
    "language_info": {
      "name": "python"
    }
  },
  "cells": [
    {
      "cell_type": "markdown",
      "metadata": {
        "id": "view-in-github",
        "colab_type": "text"
      },
      "source": [
        "<a href=\"https://colab.research.google.com/github/pabhijeet99/DS_Python_files/blob/main/Assignment2.ipynb\" target=\"_parent\"><img src=\"https://colab.research.google.com/assets/colab-badge.svg\" alt=\"Open In Colab\"/></a>"
      ]
    },
    {
      "cell_type": "code",
      "execution_count": 28,
      "metadata": {
        "id": "lM_89HGdiVPX"
      },
      "outputs": [],
      "source": [
        "%matplotlib inline\n",
        "import pandas as pd\n",
        "import scipy\n",
        "import matplotlib.pyplot as plt\n",
        "import seaborn as sns\n",
        "from scipy import stats\n",
        "import math\n",
        "from math import sqrt\n",
        "from scipy.stats import norm"
      ]
    },
    {
      "cell_type": "code",
      "source": [
        "import numpy as np"
      ],
      "metadata": {
        "id": "qyeiLlgbilpR"
      },
      "execution_count": 29,
      "outputs": []
    },
    {
      "cell_type": "markdown",
      "source": [
        "# **94% Confidence Interval**"
      ],
      "metadata": {
        "id": "wMUi8cN-i3AZ"
      }
    },
    {
      "cell_type": "code",
      "source": [
        "Range=stats.norm.interval(0.94,loc=200,scale=30/sqrt(2000))\n",
        "print('On 94% confidence interval range is:',Range)"
      ],
      "metadata": {
        "colab": {
          "base_uri": "https://localhost:8080/"
        },
        "id": "eejDkX3pio7x",
        "outputId": "f499356e-b2aa-4d83-efc4-312e4e2132ee"
      },
      "execution_count": 10,
      "outputs": [
        {
          "output_type": "stream",
          "name": "stdout",
          "text": [
            "On 94% confidence interval range is: (198.738325292158, 201.261674707842)\n"
          ]
        }
      ]
    },
    {
      "cell_type": "markdown",
      "source": [
        "# **96% Confidence Interval**"
      ],
      "metadata": {
        "id": "2z9IcJwwlE6e"
      }
    },
    {
      "cell_type": "code",
      "source": [
        "Range=stats.norm.interval(0.96,loc=200,scale=30/sqrt(2000))\n",
        "print('On 96% confidence interval range is:',Range)"
      ],
      "metadata": {
        "colab": {
          "base_uri": "https://localhost:8080/"
        },
        "id": "Bx0oUjMWjb1L",
        "outputId": "a263778b-5903-4406-9ce8-0f3b77bf43d5"
      },
      "execution_count": 11,
      "outputs": [
        {
          "output_type": "stream",
          "name": "stdout",
          "text": [
            "On 96% confidence interval range is: (198.62230334813333, 201.37769665186667)\n"
          ]
        }
      ]
    },
    {
      "cell_type": "markdown",
      "source": [
        "# **98% Confidence Interval**"
      ],
      "metadata": {
        "id": "LygeFSWWlgjs"
      }
    },
    {
      "cell_type": "code",
      "source": [
        "Range=stats.norm.interval(0.98,loc=200,scale=30/sqrt(2000))\n",
        "print('On 98% confidence interval range is:',Range)"
      ],
      "metadata": {
        "colab": {
          "base_uri": "https://localhost:8080/"
        },
        "id": "oGodRPI9ldoE",
        "outputId": "99a496b3-e340-4eba-b8fc-69eb0bb1cf25"
      },
      "execution_count": 12,
      "outputs": [
        {
          "output_type": "stream",
          "name": "stdout",
          "text": [
            "On 98% confidence interval range is: (198.43943840429978, 201.56056159570022)\n"
          ]
        }
      ]
    },
    {
      "cell_type": "code",
      "source": [
        "df=pd.DataFrame(columns=[\"student_marks\"])"
      ],
      "metadata": {
        "id": "FUKPks36n_fs"
      },
      "execution_count": 20,
      "outputs": []
    },
    {
      "cell_type": "code",
      "source": [
        "Student_marks=pd.DataFrame([34,36,36,38,38,39,39,40,40,41,41,41,41,42,42,45,49,56])"
      ],
      "metadata": {
        "id": "NUANy9owlpFt"
      },
      "execution_count": 21,
      "outputs": []
    },
    {
      "cell_type": "code",
      "source": [
        "Student_marks.mean()"
      ],
      "metadata": {
        "colab": {
          "base_uri": "https://localhost:8080/"
        },
        "id": "GCVUr_8snUYJ",
        "outputId": "a5b3f4c4-4948-474f-e19c-a4753f1a709e"
      },
      "execution_count": 22,
      "outputs": [
        {
          "output_type": "execute_result",
          "data": {
            "text/plain": [
              "0    41.0\n",
              "dtype: float64"
            ]
          },
          "metadata": {},
          "execution_count": 22
        }
      ]
    },
    {
      "cell_type": "code",
      "source": [
        "Student_marks.median()"
      ],
      "metadata": {
        "colab": {
          "base_uri": "https://localhost:8080/"
        },
        "id": "wiwMsvVeqYWp",
        "outputId": "1a80a5ea-7786-40a1-af60-ec37c8f5d10b"
      },
      "execution_count": 23,
      "outputs": [
        {
          "output_type": "execute_result",
          "data": {
            "text/plain": [
              "0    40.5\n",
              "dtype: float64"
            ]
          },
          "metadata": {},
          "execution_count": 23
        }
      ]
    },
    {
      "cell_type": "code",
      "source": [
        "Student_marks.var()"
      ],
      "metadata": {
        "colab": {
          "base_uri": "https://localhost:8080/"
        },
        "id": "bA0_TO4nqfzd",
        "outputId": "be31580d-3828-4668-a946-bb5bb6ab6374"
      },
      "execution_count": 24,
      "outputs": [
        {
          "output_type": "execute_result",
          "data": {
            "text/plain": [
              "0    25.529412\n",
              "dtype: float64"
            ]
          },
          "metadata": {},
          "execution_count": 24
        }
      ]
    },
    {
      "cell_type": "code",
      "source": [
        "Student_marks.std()"
      ],
      "metadata": {
        "colab": {
          "base_uri": "https://localhost:8080/"
        },
        "id": "-_8Xt_oOqjdK",
        "outputId": "d2cd4fb2-50fa-48a0-f434-22f5b964d8fe"
      },
      "execution_count": 25,
      "outputs": [
        {
          "output_type": "execute_result",
          "data": {
            "text/plain": [
              "0    5.052664\n",
              "dtype: float64"
            ]
          },
          "metadata": {},
          "execution_count": 25
        }
      ]
    },
    {
      "cell_type": "code",
      "source": [
        "import pandas as pd\n",
        "import numpy as np"
      ],
      "metadata": {
        "id": "zsFUyWYJqnie"
      },
      "execution_count": 36,
      "outputs": []
    },
    {
      "cell_type": "code",
      "source": [
        "Cars=pd.read_csv(\"/content/Cars.csv\")"
      ],
      "metadata": {
        "id": "Qd1iWPKEwTVh"
      },
      "execution_count": 43,
      "outputs": []
    },
    {
      "cell_type": "code",
      "source": [
        "Cars['MPG'].mean()"
      ],
      "metadata": {
        "colab": {
          "base_uri": "https://localhost:8080/"
        },
        "id": "9Sbm5Q9JxsQR",
        "outputId": "d8f143b2-4986-492e-9e16-5f4c373f3c50"
      },
      "execution_count": 44,
      "outputs": [
        {
          "output_type": "execute_result",
          "data": {
            "text/plain": [
              "34.42207572802469"
            ]
          },
          "metadata": {},
          "execution_count": 44
        }
      ]
    },
    {
      "cell_type": "code",
      "source": [
        "Cars['MPG'].std()"
      ],
      "metadata": {
        "colab": {
          "base_uri": "https://localhost:8080/"
        },
        "id": "jvRGQEAgy2Gu",
        "outputId": "a486127d-8822-403a-a4da-87129c8f3ee2"
      },
      "execution_count": 45,
      "outputs": [
        {
          "output_type": "execute_result",
          "data": {
            "text/plain": [
              "9.131444731795982"
            ]
          },
          "metadata": {},
          "execution_count": 45
        }
      ]
    },
    {
      "cell_type": "code",
      "source": [
        "#P(MPG>38)\n",
        "1-stats.norm.cdf(x=38,loc=34.42,scale=9.13)"
      ],
      "metadata": {
        "colab": {
          "base_uri": "https://localhost:8080/"
        },
        "id": "GE5Qgl3cz9Oh",
        "outputId": "a313e8bd-0319-458e-ed5f-282ba646903e"
      },
      "execution_count": 49,
      "outputs": [
        {
          "output_type": "execute_result",
          "data": {
            "text/plain": [
              "0.34748702501304063"
            ]
          },
          "metadata": {},
          "execution_count": 49
        }
      ]
    },
    {
      "cell_type": "code",
      "source": [
        "#P(MPG<40)\n",
        "stats.norm.cdf(x=40,loc=34.42,scale=9.13)"
      ],
      "metadata": {
        "colab": {
          "base_uri": "https://localhost:8080/"
        },
        "id": "Z6PjeeO90Tuc",
        "outputId": "762cfb81-94bd-4d02-f41d-351ea24f9bc6"
      },
      "execution_count": 50,
      "outputs": [
        {
          "output_type": "execute_result",
          "data": {
            "text/plain": [
              "0.7294571279557076"
            ]
          },
          "metadata": {},
          "execution_count": 50
        }
      ]
    },
    {
      "cell_type": "code",
      "source": [
        "#P(20<MPG<50)\n",
        "stats.norm.cdf(x=50,loc=34.42,scale=9.13)-stats.norm.cdf(x=20,loc=34.42,scale=9.13)"
      ],
      "metadata": {
        "colab": {
          "base_uri": "https://localhost:8080/"
        },
        "id": "0qPtUbjx0dsF",
        "outputId": "7fae064b-069d-48a2-baf0-45b3614236f6"
      },
      "execution_count": 51,
      "outputs": [
        {
          "output_type": "execute_result",
          "data": {
            "text/plain": [
              "0.8989177824549222"
            ]
          },
          "metadata": {},
          "execution_count": 51
        }
      ]
    },
    {
      "cell_type": "code",
      "source": [
        "Cars=pd.read_csv(\"/content/Cars.csv\")"
      ],
      "metadata": {
        "id": "15ETWsus3wGz"
      },
      "execution_count": 58,
      "outputs": []
    },
    {
      "cell_type": "code",
      "source": [
        "print(Cars['MPG'].mean())\n",
        "print(Cars['MPG'].median())\n",
        "print(Cars['MPG'].mode())\n",
        "print(Cars['MPG'].kurtosis())\n",
        "sns.distplot(Cars['MPG'])"
      ],
      "metadata": {
        "colab": {
          "base_uri": "https://localhost:8080/",
          "height": 444
        },
        "id": "eqOVsg5Y06i4",
        "outputId": "fbacb886-a6e0-4b68-b9f9-341867e2111f"
      },
      "execution_count": 59,
      "outputs": [
        {
          "output_type": "stream",
          "name": "stdout",
          "text": [
            "34.42207572802469\n",
            "35.15272697\n",
            "0    29.629936\n",
            "dtype: float64\n",
            "-0.6116786559430913\n"
          ]
        },
        {
          "output_type": "stream",
          "name": "stderr",
          "text": [
            "/usr/local/lib/python3.7/dist-packages/seaborn/distributions.py:2619: FutureWarning: `distplot` is a deprecated function and will be removed in a future version. Please adapt your code to use either `displot` (a figure-level function with similar flexibility) or `histplot` (an axes-level function for histograms).\n",
            "  warnings.warn(msg, FutureWarning)\n"
          ]
        },
        {
          "output_type": "execute_result",
          "data": {
            "text/plain": [
              "<matplotlib.axes._subplots.AxesSubplot at 0x7f17e36b8450>"
            ]
          },
          "metadata": {},
          "execution_count": 59
        },
        {
          "output_type": "display_data",
          "data": {
            "text/plain": [
              "<Figure size 432x288 with 1 Axes>"
            ],
            "image/png": "[encoded data removed]"
          },
          "metadata": {
            "needs_background": "light"
          }
        }
      ]
    },
    {
      "cell_type": "code",
      "source": [
        "wc_at=pd.read_csv(\"/content/wc-at.csv\")"
      ],
      "metadata": {
        "id": "YEmAl5P94J7H"
      },
      "execution_count": 61,
      "outputs": []
    },
    {
      "cell_type": "code",
      "source": [
        "sns.distplot(wc_at['AT'])\n",
        "print(wc_at['AT'].mean())\n",
        "print(wc_at['AT'].median())\n",
        "print(wc_at['AT'].mode())\n",
        "print(wc_at['AT'].kurtosis())"
      ],
      "metadata": {
        "colab": {
          "base_uri": "https://localhost:8080/",
          "height": 444
        },
        "id": "_JhQzXkB1ukf",
        "outputId": "789b2809-47a9-402b-9f4d-a9d0275c0b73"
      },
      "execution_count": 62,
      "outputs": [
        {
          "output_type": "stream",
          "name": "stderr",
          "text": [
            "/usr/local/lib/python3.7/dist-packages/seaborn/distributions.py:2619: FutureWarning: `distplot` is a deprecated function and will be removed in a future version. Please adapt your code to use either `displot` (a figure-level function with similar flexibility) or `histplot` (an axes-level function for histograms).\n",
            "  warnings.warn(msg, FutureWarning)\n"
          ]
        },
        {
          "output_type": "stream",
          "name": "stdout",
          "text": [
            "101.89403669724771\n",
            "96.54\n",
            "0    121.0\n",
            "1    123.0\n",
            "dtype: float64\n",
            "-0.28557567504584425\n"
          ]
        },
        {
          "output_type": "display_data",
          "data": {
            "text/plain": [
              "<Figure size 432x288 with 1 Axes>"
            ],
            "image/png": "[encoded data removed]"
          },
          "metadata": {
            "needs_background": "light"
          }
        }
      ]
    },
    {
      "cell_type": "code",
      "source": [
        "#Z score for 90% confidence interval\n",
        "#For one tail:\n",
        "print(stats.norm.ppf(0.90))\n",
        "#For two tail:\n",
        "print(stats.norm.ppf(0.95))"
      ],
      "metadata": {
        "colab": {
          "base_uri": "https://localhost:8080/"
        },
        "id": "p51JnJYU3mL8",
        "outputId": "17ddff82-b54c-432c-8b5c-ba152fac2831"
      },
      "execution_count": 63,
      "outputs": [
        {
          "output_type": "stream",
          "name": "stdout",
          "text": [
            "1.2815515655446004\n",
            "1.6448536269514722\n"
          ]
        }
      ]
    },
    {
      "cell_type": "code",
      "source": [
        "#Z score for 60% confidence interval\n",
        "#For one tail:\n",
        "print(stats.norm.ppf(0.60))\n",
        "#For two tail:\n",
        "print(stats.norm.ppf(0.85))"
      ],
      "metadata": {
        "colab": {
          "base_uri": "https://localhost:8080/"
        },
        "id": "p29e-6Dv5n2R",
        "outputId": "4dc8755a-9ced-424e-fe71-9d8344104ced"
      },
      "execution_count": 64,
      "outputs": [
        {
          "output_type": "stream",
          "name": "stdout",
          "text": [
            "0.2533471031357997\n",
            "1.0364333894937898\n"
          ]
        }
      ]
    },
    {
      "cell_type": "code",
      "source": [],
      "metadata": {
        "id": "ItGOowlU5xvG"
      },
      "execution_count": null,
      "outputs": []
    },
    {
      "cell_type": "code",
      "source": [
        "#t score for 95% confidence interval\n",
        "#For one tail:\n",
        "print(stats.t.ppf(0.95,df=24))\n",
        "#For two tail:\n",
        "print(stats.t.ppf(0.957,df=24))"
      ],
      "metadata": {
        "colab": {
          "base_uri": "https://localhost:8080/"
        },
        "outputId": "38d61b6d-13a8-46df-fe07-1a518916f75c",
        "id": "JRN9VIT86Bd0"
      },
      "execution_count": 65,
      "outputs": [
        {
          "output_type": "stream",
          "name": "stdout",
          "text": [
            "1.7108820799094275\n",
            "1.7904854147867635\n"
          ]
        }
      ]
    },
    {
      "cell_type": "code",
      "source": [
        "#t score for 96% confidence interval\n",
        "#For one tail:\n",
        "print(stats.t.ppf(0.96,df=24))\n",
        "#For two tail:\n",
        "print(stats.t.ppf(0.98,df=24))"
      ],
      "metadata": {
        "colab": {
          "base_uri": "https://localhost:8080/"
        },
        "id": "K12BFsPF6Uqg",
        "outputId": "0aa3cced-1596-46f1-b2d6-e6ab61c82f77"
      },
      "execution_count": 66,
      "outputs": [
        {
          "output_type": "stream",
          "name": "stdout",
          "text": [
            "1.8280511719596342\n",
            "2.1715446760080677\n"
          ]
        }
      ]
    },
    {
      "cell_type": "code",
      "source": [
        "#t score for 99% confidence interval\n",
        "#For one tail:\n",
        "print(stats.t.ppf(0.99,df=24))\n",
        "#For two tail:\n",
        "print(stats.t.ppf(0.995,df=24))"
      ],
      "metadata": {
        "colab": {
          "base_uri": "https://localhost:8080/"
        },
        "id": "RB_ERp626d4x",
        "outputId": "112adcbd-a92b-4411-e316-3c6e80fdb879"
      },
      "execution_count": 67,
      "outputs": [
        {
          "output_type": "stream",
          "name": "stdout",
          "text": [
            "2.4921594731575762\n",
            "2.796939504772804\n"
          ]
        }
      ]
    },
    {
      "cell_type": "code",
      "source": [
        "#Probability of Average life of the bulbs no more then 260\n",
        "t=(260-270)/(90/sqrt(18))\n",
        "print('Probability of Average life of the bulbs no more then 260:',stats.t.cdf(t,df=17))"
      ],
      "metadata": {
        "colab": {
          "base_uri": "https://localhost:8080/"
        },
        "id": "8txgyC4_6jsj",
        "outputId": "3d2ec1b2-aa39-4faa-bb82-c5f6594d9d47"
      },
      "execution_count": 68,
      "outputs": [
        {
          "output_type": "stream",
          "name": "stdout",
          "text": [
            "Probability of Average life of the bulbs no more then 260: 0.32167253567098364\n"
          ]
        }
      ]
    },
    {
      "cell_type": "code",
      "source": [],
      "metadata": {
        "id": "vakdslsc7LGa"
      },
      "execution_count": null,
      "outputs": []
    }
  ]
}