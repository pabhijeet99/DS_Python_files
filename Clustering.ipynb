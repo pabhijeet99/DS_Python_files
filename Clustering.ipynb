{
  "nbformat": 4,
  "nbformat_minor": 0,
  "metadata": {
    "colab": {
      "provenance": [],
      "authorship_tag": "ABX9TyMDMqbR31l5Idu668jHTrWV",
      "include_colab_link": true
    },
    "kernelspec": {
      "name": "python3",
      "display_name": "Python 3"
    },
    "language_info": {
      "name": "python"
    }
  },
  "cells": [
    {
      "cell_type": "markdown",
      "metadata": {
        "id": "view-in-github",
        "colab_type": "text"
      },
      "source": [
        "<a href=\"https://colab.research.google.com/github/pabhijeet99/DS_Python_files/blob/main/Clustering.ipynb\" target=\"_parent\"><img src=\"https://colab.research.google.com/assets/colab-badge.svg\" alt=\"Open In Colab\"/></a>"
      ]
    },
    {
      "cell_type": "code",
      "execution_count": 1,
      "metadata": {
        "id": "OhIjEs7XCw9j"
      },
      "outputs": [],
      "source": [
        "import numpy as np\n",
        "import pandas as pd\n",
        "from matplotlib import pyplot as plt\n",
        "from sklearn.cluster import KMeans\n",
        "from sklearn.preprocessing import StandardScaler\n",
        "from sklearn import preprocessing\n",
        "import seaborn as sns\n",
        "import scipy.cluster.hierarchy as sch\n",
        "from sklearn.cluster import AgglomerativeClustering"
      ]
    },
    {
      "cell_type": "markdown",
      "source": [
        "# 1 - Business Problem\n",
        "___Perform clustering (Both hierarchical and K means clustering) for the airlines data to obtain optimum number of clusters___"
      ],
      "metadata": {
        "id": "d3MNi_LtEcbX"
      }
    },
    {
      "cell_type": "markdown",
      "source": [
        "# 2 - Data Collection and Description"
      ],
      "metadata": {
        "id": "UnxWydPgEgKc"
      }
    },
    {
      "cell_type": "code",
      "source": [
        "df=pd.read_csv(\"/content/EastWest.csv\")"
      ],
      "metadata": {
        "id": "-CEictjfEmzD"
      },
      "execution_count": 2,
      "outputs": []
    },
    {
      "cell_type": "code",
      "source": [
        "df1=df.copy()"
      ],
      "metadata": {
        "id": "o5FPPPyFEtlo"
      },
      "execution_count": 3,
      "outputs": []
    },
    {
      "cell_type": "code",
      "source": [
        "df1.head()"
      ],
      "metadata": {
        "colab": {
          "base_uri": "https://localhost:8080/",
          "height": 270
        },
        "id": "0cX-xAFIExHM",
        "outputId": "4f02dc5d-7195-4765-ff64-9ac90454fd0f"
      },
      "execution_count": 4,
      "outputs": [
        {
          "output_type": "execute_result",
          "data": {
            "text/plain": [
              "   ID#  Balance  Qual_miles  cc1_miles  cc2_miles  cc3_miles  Bonus_miles  \\\n",
              "0    1    28143           0          1          1          1          174   \n",
              "1    2    19244           0          1          1          1          215   \n",
              "2    3    41354           0          1          1          1         4123   \n",
              "3    4    14776           0          1          1          1          500   \n",
              "4    5    97752           0          4          1          1        43300   \n",
              "\n",
              "   Bonus_trans  Flight_miles_12mo  Flight_trans_12  Days_since_enroll  Award?  \n",
              "0            1                  0                0               7000       0  \n",
              "1            2                  0                0               6968       0  \n",
              "2            4                  0                0               7034       0  \n",
              "3            1                  0                0               6952       0  \n",
              "4           26               2077                4               6935       1  "
            ],
            "text/html": [
              "\n",
              "  <div id=\"df-e31da098-9e21-4a7c-a191-0f1d56ad7f68\">\n",
              "    <div class=\"colab-df-container\">\n",
              "      <div>\n",
              "<style scoped>\n",
              "    .dataframe tbody tr th:only-of-type {\n",
              "        vertical-align: middle;\n",
              "    }\n",
              "\n",
              "    .dataframe tbody tr th {\n",
              "        vertical-align: top;\n",
              "    }\n",
              "\n",
              "    .dataframe thead th {\n",
              "        text-align: right;\n",
              "    }\n",
              "</style>\n",
              "<table border=\"1\" class=\"dataframe\">\n",
              "  <thead>\n",
              "    <tr style=\"text-align: right;\">\n",
              "      <th></th>\n",
              "      <th>ID#</th>\n",
              "      <th>Balance</th>\n",
              "      <th>Qual_miles</th>\n",
              "      <th>cc1_miles</th>\n",
              "      <th>cc2_miles</th>\n",
              "      <th>cc3_miles</th>\n",
              "      <th>Bonus_miles</th>\n",
              "      <th>Bonus_trans</th>\n",
              "      <th>Flight_miles_12mo</th>\n",
              "      <th>Flight_trans_12</th>\n",
              "      <th>Days_since_enroll</th>\n",
              "      <th>Award?</th>\n",
              "    </tr>\n",
              "  </thead>\n",
              "  <tbody>\n",
              "    <tr>\n",
              "      <th>0</th>\n",
              "      <td>1</td>\n",
              "      <td>28143</td>\n",
              "      <td>0</td>\n",
              "      <td>1</td>\n",
              "      <td>1</td>\n",
              "      <td>1</td>\n",
              "      <td>174</td>\n",
              "      <td>1</td>\n",
              "      <td>0</td>\n",
              "      <td>0</td>\n",
              "      <td>7000</td>\n",
              "      <td>0</td>\n",
              "    </tr>\n",
              "    <tr>\n",
              "      <th>1</th>\n",
              "      <td>2</td>\n",
              "      <td>19244</td>\n",
              "      <td>0</td>\n",
              "      <td>1</td>\n",
              "      <td>1</td>\n",
              "      <td>1</td>\n",
              "      <td>215</td>\n",
              "      <td>2</td>\n",
              "      <td>0</td>\n",
              "      <td>0</td>\n",
              "      <td>6968</td>\n",
              "      <td>0</td>\n",
              "    </tr>\n",
              "    <tr>\n",
              "      <th>2</th>\n",
              "      <td>3</td>\n",
              "      <td>41354</td>\n",
              "      <td>0</td>\n",
              "      <td>1</td>\n",
              "      <td>1</td>\n",
              "      <td>1</td>\n",
              "      <td>4123</td>\n",
              "      <td>4</td>\n",
              "      <td>0</td>\n",
              "      <td>0</td>\n",
              "      <td>7034</td>\n",
              "      <td>0</td>\n",
              "    </tr>\n",
              "    <tr>\n",
              "      <th>3</th>\n",
              "      <td>4</td>\n",
              "      <td>14776</td>\n",
              "      <td>0</td>\n",
              "      <td>1</td>\n",
              "      <td>1</td>\n",
              "      <td>1</td>\n",
              "      <td>500</td>\n",
              "      <td>1</td>\n",
              "      <td>0</td>\n",
              "      <td>0</td>\n",
              "      <td>6952</td>\n",
              "      <td>0</td>\n",
              "    </tr>\n",
              "    <tr>\n",
              "      <th>4</th>\n",
              "      <td>5</td>\n",
              "      <td>97752</td>\n",
              "      <td>0</td>\n",
              "      <td>4</td>\n",
              "      <td>1</td>\n",
              "      <td>1</td>\n",
              "      <td>43300</td>\n",
              "      <td>26</td>\n",
              "      <td>2077</td>\n",
              "      <td>4</td>\n",
              "      <td>6935</td>\n",
              "      <td>1</td>\n",
              "    </tr>\n",
              "  </tbody>\n",
              "</table>\n",
              "</div>\n",
              "      <button class=\"colab-df-convert\" onclick=\"convertToInteractive('df-e31da098-9e21-4a7c-a191-0f1d56ad7f68')\"\n",
              "              title=\"Convert this dataframe to an interactive table.\"\n",
              "              style=\"display:none;\">\n",
              "        \n",
              "  <svg xmlns=\"http://www.w3.org/2000/svg\" height=\"24px\"viewBox=\"0 0 24 24\"\n",
              "       width=\"24px\">\n",
              "    <path d=\"M0 0h24v24H0V0z\" fill=\"none\"/>\n",
              "    <path d=\"M18.56 5.44l.94 2.06.94-2.06 2.06-.94-2.06-.94-.94-2.06-.94 2.06-2.06.94zm-11 1L8.5 8.5l.94-2.06 2.06-.94-2.06-.94L8.5 2.5l-.94 2.06-2.06.94zm10 10l.94 2.06.94-2.06 2.06-.94-2.06-.94-.94-2.06-.94 2.06-2.06.94z\"/><path d=\"M17.41 7.96l-1.37-1.37c-.4-.4-.92-.59-1.43-.59-.52 0-1.04.2-1.43.59L10.3 9.45l-7.72 7.72c-.78.78-.78 2.05 0 2.83L4 21.41c.39.39.9.59 1.41.59.51 0 1.02-.2 1.41-.59l7.78-7.78 2.81-2.81c.8-.78.8-2.07 0-2.86zM5.41 20L4 18.59l7.72-7.72 1.47 1.35L5.41 20z\"/>\n",
              "  </svg>\n",
              "      </button>\n",
              "      \n",
              "  <style>\n",
              "    .colab-df-container {\n",
              "      display:flex;\n",
              "      flex-wrap:wrap;\n",
              "      gap: 12px;\n",
              "    }\n",
              "\n",
              "    .colab-df-convert {\n",
              "      background-color: #E8F0FE;\n",
              "      border: none;\n",
              "      border-radius: 50%;\n",
              "      cursor: pointer;\n",
              "      display: none;\n",
              "      fill: #1967D2;\n",
              "      height: 32px;\n",
              "      padding: 0 0 0 0;\n",
              "      width: 32px;\n",
              "    }\n",
              "\n",
              "    .colab-df-convert:hover {\n",
              "      background-color: #E2EBFA;\n",
              "      box-shadow: 0px 1px 2px rgba(60, 64, 67, 0.3), 0px 1px 3px 1px rgba(60, 64, 67, 0.15);\n",
              "      fill: #174EA6;\n",
              "    }\n",
              "\n",
              "    [theme=dark] .colab-df-convert {\n",
              "      background-color: #3B4455;\n",
              "      fill: #D2E3FC;\n",
              "    }\n",
              "\n",
              "    [theme=dark] .colab-df-convert:hover {\n",
              "      background-color: #434B5C;\n",
              "      box-shadow: 0px 1px 3px 1px rgba(0, 0, 0, 0.15);\n",
              "      filter: drop-shadow(0px 1px 2px rgba(0, 0, 0, 0.3));\n",
              "      fill: #FFFFFF;\n",
              "    }\n",
              "  </style>\n",
              "\n",
              "      <script>\n",
              "        const buttonEl =\n",
              "          document.querySelector('#df-e31da098-9e21-4a7c-a191-0f1d56ad7f68 button.colab-df-convert');\n",
              "        buttonEl.style.display =\n",
              "          google.colab.kernel.accessAllowed ? 'block' : 'none';\n",
              "\n",
              "        async function convertToInteractive(key) {\n",
              "          const element = document.querySelector('#df-e31da098-9e21-4a7c-a191-0f1d56ad7f68');\n",
              "          const dataTable =\n",
              "            await google.colab.kernel.invokeFunction('convertToInteractive',\n",
              "                                                     [key], {});\n",
              "          if (!dataTable) return;\n",
              "\n",
              "          const docLinkHtml = 'Like what you see? Visit the ' +\n",
              "            '<a target=\"_blank\" href=https://colab.research.google.com/notebooks/data_table.ipynb>data table notebook</a>'\n",
              "            + ' to learn more about interactive tables.';\n",
              "          element.innerHTML = '';\n",
              "          dataTable['output_type'] = 'display_data';\n",
              "          await google.colab.output.renderOutput(dataTable, element);\n",
              "          const docLink = document.createElement('div');\n",
              "          docLink.innerHTML = docLinkHtml;\n",
              "          element.appendChild(docLink);\n",
              "        }\n",
              "      </script>\n",
              "    </div>\n",
              "  </div>\n",
              "  "
            ]
          },
          "metadata": {},
          "execution_count": 4
        }
      ]
    },
    {
      "cell_type": "code",
      "source": [
        "df1_norm = preprocessing.scale(df1)"
      ],
      "metadata": {
        "id": "3R87SZ5VE0LG"
      },
      "execution_count": 5,
      "outputs": []
    },
    {
      "cell_type": "code",
      "source": [
        "df1_norm = pd.DataFrame(df1_norm) #standardize the data to normal distribution"
      ],
      "metadata": {
        "id": "ejM8mle_E6P-"
      },
      "execution_count": 6,
      "outputs": []
    },
    {
      "cell_type": "code",
      "source": [
        "df1_norm.head()"
      ],
      "metadata": {
        "colab": {
          "base_uri": "https://localhost:8080/",
          "height": 270
        },
        "id": "Q71ujzxcE8wr",
        "outputId": "c473924c-31dc-4143-ceab-c5e8cf70a730"
      },
      "execution_count": 7,
      "outputs": [
        {
          "output_type": "execute_result",
          "data": {
            "text/plain": [
              "         0         1         2         3         4         5         6   \\\n",
              "0 -1.735125 -0.451141 -0.186299 -0.769578 -0.098242 -0.062767 -0.702786   \n",
              "1 -1.734263 -0.539457 -0.186299 -0.769578 -0.098242 -0.062767 -0.701088   \n",
              "2 -1.733402 -0.320031 -0.186299 -0.769578 -0.098242 -0.062767 -0.539253   \n",
              "3 -1.732540 -0.583799 -0.186299 -0.769578 -0.098242 -0.062767 -0.689286   \n",
              "4 -1.731679  0.239678 -0.186299  1.409471 -0.098242 -0.062767  1.083121   \n",
              "\n",
              "         7         8         9         10        11  \n",
              "0 -1.104065 -0.328603 -0.362168  1.395454 -0.766919  \n",
              "1 -0.999926 -0.328603 -0.362168  1.379957 -0.766919  \n",
              "2 -0.791649 -0.328603 -0.362168  1.411920 -0.766919  \n",
              "3 -1.104065 -0.328603 -0.362168  1.372208 -0.766919  \n",
              "4  1.499394  1.154932  0.692490  1.363975  1.303918  "
            ],
            "text/html": [
              "\n",
              "  <div id=\"df-b3e47ec9-f6af-4bd8-bf7e-c4e97fc38563\">\n",
              "    <div class=\"colab-df-container\">\n",
              "      <div>\n",
              "<style scoped>\n",
              "    .dataframe tbody tr th:only-of-type {\n",
              "        vertical-align: middle;\n",
              "    }\n",
              "\n",
              "    .dataframe tbody tr th {\n",
              "        vertical-align: top;\n",
              "    }\n",
              "\n",
              "    .dataframe thead th {\n",
              "        text-align: right;\n",
              "    }\n",
              "</style>\n",
              "<table border=\"1\" class=\"dataframe\">\n",
              "  <thead>\n",
              "    <tr style=\"text-align: right;\">\n",
              "      <th></th>\n",
              "      <th>0</th>\n",
              "      <th>1</th>\n",
              "      <th>2</th>\n",
              "      <th>3</th>\n",
              "      <th>4</th>\n",
              "      <th>5</th>\n",
              "      <th>6</th>\n",
              "      <th>7</th>\n",
              "      <th>8</th>\n",
              "      <th>9</th>\n",
              "      <th>10</th>\n",
              "      <th>11</th>\n",
              "    </tr>\n",
              "  </thead>\n",
              "  <tbody>\n",
              "    <tr>\n",
              "      <th>0</th>\n",
              "      <td>-1.735125</td>\n",
              "      <td>-0.451141</td>\n",
              "      <td>-0.186299</td>\n",
              "      <td>-0.769578</td>\n",
              "      <td>-0.098242</td>\n",
              "      <td>-0.062767</td>\n",
              "      <td>-0.702786</td>\n",
              "      <td>-1.104065</td>\n",
              "      <td>-0.328603</td>\n",
              "      <td>-0.362168</td>\n",
              "      <td>1.395454</td>\n",
              "      <td>-0.766919</td>\n",
              "    </tr>\n",
              "    <tr>\n",
              "      <th>1</th>\n",
              "      <td>-1.734263</td>\n",
              "      <td>-0.539457</td>\n",
              "      <td>-0.186299</td>\n",
              "      <td>-0.769578</td>\n",
              "      <td>-0.098242</td>\n",
              "      <td>-0.062767</td>\n",
              "      <td>-0.701088</td>\n",
              "      <td>-0.999926</td>\n",
              "      <td>-0.328603</td>\n",
              "      <td>-0.362168</td>\n",
              "      <td>1.379957</td>\n",
              "      <td>-0.766919</td>\n",
              "    </tr>\n",
              "    <tr>\n",
              "      <th>2</th>\n",
              "      <td>-1.733402</td>\n",
              "      <td>-0.320031</td>\n",
              "      <td>-0.186299</td>\n",
              "      <td>-0.769578</td>\n",
              "      <td>-0.098242</td>\n",
              "      <td>-0.062767</td>\n",
              "      <td>-0.539253</td>\n",
              "      <td>-0.791649</td>\n",
              "      <td>-0.328603</td>\n",
              "      <td>-0.362168</td>\n",
              "      <td>1.411920</td>\n",
              "      <td>-0.766919</td>\n",
              "    </tr>\n",
              "    <tr>\n",
              "      <th>3</th>\n",
              "      <td>-1.732540</td>\n",
              "      <td>-0.583799</td>\n",
              "      <td>-0.186299</td>\n",
              "      <td>-0.769578</td>\n",
              "      <td>-0.098242</td>\n",
              "      <td>-0.062767</td>\n",
              "      <td>-0.689286</td>\n",
              "      <td>-1.104065</td>\n",
              "      <td>-0.328603</td>\n",
              "      <td>-0.362168</td>\n",
              "      <td>1.372208</td>\n",
              "      <td>-0.766919</td>\n",
              "    </tr>\n",
              "    <tr>\n",
              "      <th>4</th>\n",
              "      <td>-1.731679</td>\n",
              "      <td>0.239678</td>\n",
              "      <td>-0.186299</td>\n",
              "      <td>1.409471</td>\n",
              "      <td>-0.098242</td>\n",
              "      <td>-0.062767</td>\n",
              "      <td>1.083121</td>\n",
              "      <td>1.499394</td>\n",
              "      <td>1.154932</td>\n",
              "      <td>0.692490</td>\n",
              "      <td>1.363975</td>\n",
              "      <td>1.303918</td>\n",
              "    </tr>\n",
              "  </tbody>\n",
              "</table>\n",
              "</div>\n",
              "      <button class=\"colab-df-convert\" onclick=\"convertToInteractive('df-b3e47ec9-f6af-4bd8-bf7e-c4e97fc38563')\"\n",
              "              title=\"Convert this dataframe to an interactive table.\"\n",
              "              style=\"display:none;\">\n",
              "        \n",
              "  <svg xmlns=\"http://www.w3.org/2000/svg\" height=\"24px\"viewBox=\"0 0 24 24\"\n",
              "       width=\"24px\">\n",
              "    <path d=\"M0 0h24v24H0V0z\" fill=\"none\"/>\n",
              "    <path d=\"M18.56 5.44l.94 2.06.94-2.06 2.06-.94-2.06-.94-.94-2.06-.94 2.06-2.06.94zm-11 1L8.5 8.5l.94-2.06 2.06-.94-2.06-.94L8.5 2.5l-.94 2.06-2.06.94zm10 10l.94 2.06.94-2.06 2.06-.94-2.06-.94-.94-2.06-.94 2.06-2.06.94z\"/><path d=\"M17.41 7.96l-1.37-1.37c-.4-.4-.92-.59-1.43-.59-.52 0-1.04.2-1.43.59L10.3 9.45l-7.72 7.72c-.78.78-.78 2.05 0 2.83L4 21.41c.39.39.9.59 1.41.59.51 0 1.02-.2 1.41-.59l7.78-7.78 2.81-2.81c.8-.78.8-2.07 0-2.86zM5.41 20L4 18.59l7.72-7.72 1.47 1.35L5.41 20z\"/>\n",
              "  </svg>\n",
              "      </button>\n",
              "      \n",
              "  <style>\n",
              "    .colab-df-container {\n",
              "      display:flex;\n",
              "      flex-wrap:wrap;\n",
              "      gap: 12px;\n",
              "    }\n",
              "\n",
              "    .colab-df-convert {\n",
              "      background-color: #E8F0FE;\n",
              "      border: none;\n",
              "      border-radius: 50%;\n",
              "      cursor: pointer;\n",
              "      display: none;\n",
              "      fill: #1967D2;\n",
              "      height: 32px;\n",
              "      padding: 0 0 0 0;\n",
              "      width: 32px;\n",
              "    }\n",
              "\n",
              "    .colab-df-convert:hover {\n",
              "      background-color: #E2EBFA;\n",
              "      box-shadow: 0px 1px 2px rgba(60, 64, 67, 0.3), 0px 1px 3px 1px rgba(60, 64, 67, 0.15);\n",
              "      fill: #174EA6;\n",
              "    }\n",
              "\n",
              "    [theme=dark] .colab-df-convert {\n",
              "      background-color: #3B4455;\n",
              "      fill: #D2E3FC;\n",
              "    }\n",
              "\n",
              "    [theme=dark] .colab-df-convert:hover {\n",
              "      background-color: #434B5C;\n",
              "      box-shadow: 0px 1px 3px 1px rgba(0, 0, 0, 0.15);\n",
              "      filter: drop-shadow(0px 1px 2px rgba(0, 0, 0, 0.3));\n",
              "      fill: #FFFFFF;\n",
              "    }\n",
              "  </style>\n",
              "\n",
              "      <script>\n",
              "        const buttonEl =\n",
              "          document.querySelector('#df-b3e47ec9-f6af-4bd8-bf7e-c4e97fc38563 button.colab-df-convert');\n",
              "        buttonEl.style.display =\n",
              "          google.colab.kernel.accessAllowed ? 'block' : 'none';\n",
              "\n",
              "        async function convertToInteractive(key) {\n",
              "          const element = document.querySelector('#df-b3e47ec9-f6af-4bd8-bf7e-c4e97fc38563');\n",
              "          const dataTable =\n",
              "            await google.colab.kernel.invokeFunction('convertToInteractive',\n",
              "                                                     [key], {});\n",
              "          if (!dataTable) return;\n",
              "\n",
              "          const docLinkHtml = 'Like what you see? Visit the ' +\n",
              "            '<a target=\"_blank\" href=https://colab.research.google.com/notebooks/data_table.ipynb>data table notebook</a>'\n",
              "            + ' to learn more about interactive tables.';\n",
              "          element.innerHTML = '';\n",
              "          dataTable['output_type'] = 'display_data';\n",
              "          await google.colab.output.renderOutput(dataTable, element);\n",
              "          const docLink = document.createElement('div');\n",
              "          docLink.innerHTML = docLinkHtml;\n",
              "          element.appendChild(docLink);\n",
              "        }\n",
              "      </script>\n",
              "    </div>\n",
              "  </div>\n",
              "  "
            ]
          },
          "metadata": {},
          "execution_count": 7
        }
      ]
    },
    {
      "cell_type": "markdown",
      "source": [
        "# 3 - Finding out the optimal number of clusters"
      ],
      "metadata": {
        "id": "o1wUcSJcFBnz"
      }
    },
    {
      "cell_type": "code",
      "source": [
        "plt.figure(figsize=(10, 8))\n",
        "wcss = []\n",
        "for i in range(1, 15):\n",
        "    kmeans = KMeans(n_clusters = i, init = 'k-means++', random_state = 42)\n",
        "    kmeans.fit(df1_norm)\n",
        "    wcss.append(kmeans.inertia_)\n",
        "plt.plot(range(1, 15), wcss)\n",
        "plt.title('The Elbow Method')\n",
        "plt.xlabel('Number of clusters')\n",
        "plt.ylabel('WCSS')\n",
        "plt.show()"
      ],
      "metadata": {
        "colab": {
          "base_uri": "https://localhost:8080/",
          "height": 513
        },
        "id": "IGmQbJSBFC2M",
        "outputId": "089f7bd4-a760-4185-95f1-67e0ed2ba561"
      },
      "execution_count": 9,
      "outputs": [
        {
          "output_type": "display_data",
          "data": {
            "text/plain": [
              "<Figure size 720x576 with 1 Axes>"
            ],
            "image/png": "[encoded data removed]"
          },
          "metadata": {
            "needs_background": "light"
          }
        }
      ]
    },
    {
      "cell_type": "markdown",
      "source": [
        "As seen from the elbow graph, the slope changes at 2. However, since spltting the dataset into 2 groups would not be very beneficial, we further evaluate clusters for higher values of k."
      ],
      "metadata": {
        "id": "1csOIF-RFNrk"
      }
    },
    {
      "cell_type": "markdown",
      "source": [
        "# **4 - H Clustering**\n",
        "# 4.1 - Euclidean distance, Ward"
      ],
      "metadata": {
        "id": "n9U-BfeuFUAf"
      }
    },
    {
      "cell_type": "code",
      "source": [
        "dendrogram = sch.dendrogram(sch.linkage(df1_norm, method='ward'))"
      ],
      "metadata": {
        "colab": {
          "base_uri": "https://localhost:8080/",
          "height": 268
        },
        "id": "DEFm_Gb_Fbmi",
        "outputId": "b34fe41e-8055-48dd-949e-012dd5db9ea6"
      },
      "execution_count": 11,
      "outputs": [
        {
          "output_type": "display_data",
          "data": {
            "text/plain": [
              "<Figure size 432x288 with 1 Axes>"
            ],
            "image/png": "[encoded data removed]"
          },
          "metadata": {
            "needs_background": "light"
          }
        }
      ]
    },
    {
      "cell_type": "markdown",
      "source": [
        "From the Ward method, we see that as the height increases the clusters get grouped together\n",
        "\n",
        "We decided to cut the tree at height 85 to obtain 3 clusters and then assigned each cluster with its respective observations"
      ],
      "metadata": {
        "id": "iH0hcd75FpE2"
      }
    },
    {
      "cell_type": "code",
      "source": [
        "X = df1_norm.values"
      ],
      "metadata": {
        "id": "YeYm7i86FjQ5"
      },
      "execution_count": 12,
      "outputs": []
    },
    {
      "cell_type": "code",
      "source": [
        "model = AgglomerativeClustering(n_clusters=3, affinity='euclidean', linkage='ward')"
      ],
      "metadata": {
        "id": "fkqKss8DFhmt"
      },
      "execution_count": 13,
      "outputs": []
    },
    {
      "cell_type": "code",
      "source": [
        "h_cluster = model.fit(X)"
      ],
      "metadata": {
        "id": "YeGTDteQFQdg"
      },
      "execution_count": 14,
      "outputs": []
    },
    {
      "cell_type": "code",
      "source": [
        "labels = model.labels_"
      ],
      "metadata": {
        "id": "hsQD-aoDFHtj"
      },
      "execution_count": 15,
      "outputs": []
    },
    {
      "cell_type": "code",
      "source": [
        "plt.scatter(X[labels==0, 0], X[labels==0, 1], s=50, marker='o', color='blue')\n",
        "plt.scatter(X[labels==1, 0], X[labels==1, 1], s=50, marker='o', color='green')\n",
        "plt.scatter(X[labels==2, 0], X[labels==2, 1], s=50, marker='o', color='red')"
      ],
      "metadata": {
        "colab": {
          "base_uri": "https://localhost:8080/",
          "height": 282
        },
        "id": "OKpBEz8FGAdj",
        "outputId": "7bce9650-c4d8-4a0b-9486-bde343a904f2"
      },
      "execution_count": 16,
      "outputs": [
        {
          "output_type": "execute_result",
          "data": {
            "text/plain": [
              "<matplotlib.collections.PathCollection at 0x7fa004df1050>"
            ]
          },
          "metadata": {},
          "execution_count": 16
        },
        {
          "output_type": "display_data",
          "data": {
            "text/plain": [
              "<Figure size 432x288 with 1 Axes>"
            ],
            "image/png": "[encoded data removed]"
          },
          "metadata": {
            "needs_background": "light"
          }
        }
      ]
    },
    {
      "cell_type": "markdown",
      "source": [
        "# 5 - K Means"
      ],
      "metadata": {
        "id": "oDU-PQEDGQ1I"
      }
    },
    {
      "cell_type": "code",
      "source": [
        "kmeans = KMeans(n_clusters = 3, init = 'k-means++', random_state = 42)\n",
        "k_means = kmeans.fit_predict(df1_norm)"
      ],
      "metadata": {
        "id": "Mvhd3iTIGTy0"
      },
      "execution_count": 17,
      "outputs": []
    },
    {
      "cell_type": "code",
      "source": [
        "k_means"
      ],
      "metadata": {
        "colab": {
          "base_uri": "https://localhost:8080/"
        },
        "id": "gdeElcEBGXst",
        "outputId": "e9053b35-1822-44a8-9266-a82d1c3fc630"
      },
      "execution_count": 18,
      "outputs": [
        {
          "output_type": "execute_result",
          "data": {
            "text/plain": [
              "array([0, 0, 0, ..., 0, 0, 0], dtype=int32)"
            ]
          },
          "metadata": {},
          "execution_count": 18
        }
      ]
    },
    {
      "cell_type": "code",
      "source": [
        "k_means1=k_means+1\n",
        "k_cluster = list(k_means1)"
      ],
      "metadata": {
        "id": "epjJzlOWGbLK"
      },
      "execution_count": 19,
      "outputs": []
    },
    {
      "cell_type": "code",
      "source": [
        "df1['k_cluster'] = k_cluster"
      ],
      "metadata": {
        "id": "Q33hccAzGe3J"
      },
      "execution_count": 21,
      "outputs": []
    },
    {
      "cell_type": "code",
      "source": [
        "kmeans_mean_cluster = pd.DataFrame(round(df1.groupby('k_cluster').mean(),1))"
      ],
      "metadata": {
        "id": "7SK9Hq6YGkPz"
      },
      "execution_count": 23,
      "outputs": []
    },
    {
      "cell_type": "code",
      "source": [
        "kmeans_mean_cluster"
      ],
      "metadata": {
        "colab": {
          "base_uri": "https://localhost:8080/",
          "height": 239
        },
        "id": "f5FFtcxYGqmQ",
        "outputId": "91519535-13f0-4dfd-f85d-27da4c605e29"
      },
      "execution_count": 24,
      "outputs": [
        {
          "output_type": "execute_result",
          "data": {
            "text/plain": [
              "              ID#   Balance  Qual_miles  cc1_miles  cc2_miles  cc3_miles  \\\n",
              "k_cluster                                                                  \n",
              "1          2327.1   42243.6        91.1        1.2        1.0        1.0   \n",
              "2          1445.6  119557.7       165.6        3.6        1.0        1.0   \n",
              "3          1753.1  189304.2       788.7        2.2        1.0        1.0   \n",
              "\n",
              "           Bonus_miles  Bonus_trans  Flight_miles_12mo  Flight_trans_12  \\\n",
              "k_cluster                                                                 \n",
              "1               4896.4          7.0              194.4              0.6   \n",
              "2              38921.2         18.6              351.2              1.1   \n",
              "3              31780.5         27.1             5420.4             15.8   \n",
              "\n",
              "           Days_since_enroll  Award?  \n",
              "k_cluster                             \n",
              "1                     3549.8     0.2  \n",
              "2                     5147.4     0.6  \n",
              "3                     4657.0     0.8  "
            ],
            "text/html": [
              "\n",
              "  <div id=\"df-72ff127f-04d4-4426-8ff9-b11dc0094360\">\n",
              "    <div class=\"colab-df-container\">\n",
              "      <div>\n",
              "<style scoped>\n",
              "    .dataframe tbody tr th:only-of-type {\n",
              "        vertical-align: middle;\n",
              "    }\n",
              "\n",
              "    .dataframe tbody tr th {\n",
              "        vertical-align: top;\n",
              "    }\n",
              "\n",
              "    .dataframe thead th {\n",
              "        text-align: right;\n",
              "    }\n",
              "</style>\n",
              "<table border=\"1\" class=\"dataframe\">\n",
              "  <thead>\n",
              "    <tr style=\"text-align: right;\">\n",
              "      <th></th>\n",
              "      <th>ID#</th>\n",
              "      <th>Balance</th>\n",
              "      <th>Qual_miles</th>\n",
              "      <th>cc1_miles</th>\n",
              "      <th>cc2_miles</th>\n",
              "      <th>cc3_miles</th>\n",
              "      <th>Bonus_miles</th>\n",
              "      <th>Bonus_trans</th>\n",
              "      <th>Flight_miles_12mo</th>\n",
              "      <th>Flight_trans_12</th>\n",
              "      <th>Days_since_enroll</th>\n",
              "      <th>Award?</th>\n",
              "    </tr>\n",
              "    <tr>\n",
              "      <th>k_cluster</th>\n",
              "      <th></th>\n",
              "      <th></th>\n",
              "      <th></th>\n",
              "      <th></th>\n",
              "      <th></th>\n",
              "      <th></th>\n",
              "      <th></th>\n",
              "      <th></th>\n",
              "      <th></th>\n",
              "      <th></th>\n",
              "      <th></th>\n",
              "      <th></th>\n",
              "    </tr>\n",
              "  </thead>\n",
              "  <tbody>\n",
              "    <tr>\n",
              "      <th>1</th>\n",
              "      <td>2327.1</td>\n",
              "      <td>42243.6</td>\n",
              "      <td>91.1</td>\n",
              "      <td>1.2</td>\n",
              "      <td>1.0</td>\n",
              "      <td>1.0</td>\n",
              "      <td>4896.4</td>\n",
              "      <td>7.0</td>\n",
              "      <td>194.4</td>\n",
              "      <td>0.6</td>\n",
              "      <td>3549.8</td>\n",
              "      <td>0.2</td>\n",
              "    </tr>\n",
              "    <tr>\n",
              "      <th>2</th>\n",
              "      <td>1445.6</td>\n",
              "      <td>119557.7</td>\n",
              "      <td>165.6</td>\n",
              "      <td>3.6</td>\n",
              "      <td>1.0</td>\n",
              "      <td>1.0</td>\n",
              "      <td>38921.2</td>\n",
              "      <td>18.6</td>\n",
              "      <td>351.2</td>\n",
              "      <td>1.1</td>\n",
              "      <td>5147.4</td>\n",
              "      <td>0.6</td>\n",
              "    </tr>\n",
              "    <tr>\n",
              "      <th>3</th>\n",
              "      <td>1753.1</td>\n",
              "      <td>189304.2</td>\n",
              "      <td>788.7</td>\n",
              "      <td>2.2</td>\n",
              "      <td>1.0</td>\n",
              "      <td>1.0</td>\n",
              "      <td>31780.5</td>\n",
              "      <td>27.1</td>\n",
              "      <td>5420.4</td>\n",
              "      <td>15.8</td>\n",
              "      <td>4657.0</td>\n",
              "      <td>0.8</td>\n",
              "    </tr>\n",
              "  </tbody>\n",
              "</table>\n",
              "</div>\n",
              "      <button class=\"colab-df-convert\" onclick=\"convertToInteractive('df-72ff127f-04d4-4426-8ff9-b11dc0094360')\"\n",
              "              title=\"Convert this dataframe to an interactive table.\"\n",
              "              style=\"display:none;\">\n",
              "        \n",
              "  <svg xmlns=\"http://www.w3.org/2000/svg\" height=\"24px\"viewBox=\"0 0 24 24\"\n",
              "       width=\"24px\">\n",
              "    <path d=\"M0 0h24v24H0V0z\" fill=\"none\"/>\n",
              "    <path d=\"M18.56 5.44l.94 2.06.94-2.06 2.06-.94-2.06-.94-.94-2.06-.94 2.06-2.06.94zm-11 1L8.5 8.5l.94-2.06 2.06-.94-2.06-.94L8.5 2.5l-.94 2.06-2.06.94zm10 10l.94 2.06.94-2.06 2.06-.94-2.06-.94-.94-2.06-.94 2.06-2.06.94z\"/><path d=\"M17.41 7.96l-1.37-1.37c-.4-.4-.92-.59-1.43-.59-.52 0-1.04.2-1.43.59L10.3 9.45l-7.72 7.72c-.78.78-.78 2.05 0 2.83L4 21.41c.39.39.9.59 1.41.59.51 0 1.02-.2 1.41-.59l7.78-7.78 2.81-2.81c.8-.78.8-2.07 0-2.86zM5.41 20L4 18.59l7.72-7.72 1.47 1.35L5.41 20z\"/>\n",
              "  </svg>\n",
              "      </button>\n",
              "      \n",
              "  <style>\n",
              "    .colab-df-container {\n",
              "      display:flex;\n",
              "      flex-wrap:wrap;\n",
              "      gap: 12px;\n",
              "    }\n",
              "\n",
              "    .colab-df-convert {\n",
              "      background-color: #E8F0FE;\n",
              "      border: none;\n",
              "      border-radius: 50%;\n",
              "      cursor: pointer;\n",
              "      display: none;\n",
              "      fill: #1967D2;\n",
              "      height: 32px;\n",
              "      padding: 0 0 0 0;\n",
              "      width: 32px;\n",
              "    }\n",
              "\n",
              "    .colab-df-convert:hover {\n",
              "      background-color: #E2EBFA;\n",
              "      box-shadow: 0px 1px 2px rgba(60, 64, 67, 0.3), 0px 1px 3px 1px rgba(60, 64, 67, 0.15);\n",
              "      fill: #174EA6;\n",
              "    }\n",
              "\n",
              "    [theme=dark] .colab-df-convert {\n",
              "      background-color: #3B4455;\n",
              "      fill: #D2E3FC;\n",
              "    }\n",
              "\n",
              "    [theme=dark] .colab-df-convert:hover {\n",
              "      background-color: #434B5C;\n",
              "      box-shadow: 0px 1px 3px 1px rgba(0, 0, 0, 0.15);\n",
              "      filter: drop-shadow(0px 1px 2px rgba(0, 0, 0, 0.3));\n",
              "      fill: #FFFFFF;\n",
              "    }\n",
              "  </style>\n",
              "\n",
              "      <script>\n",
              "        const buttonEl =\n",
              "          document.querySelector('#df-72ff127f-04d4-4426-8ff9-b11dc0094360 button.colab-df-convert');\n",
              "        buttonEl.style.display =\n",
              "          google.colab.kernel.accessAllowed ? 'block' : 'none';\n",
              "\n",
              "        async function convertToInteractive(key) {\n",
              "          const element = document.querySelector('#df-72ff127f-04d4-4426-8ff9-b11dc0094360');\n",
              "          const dataTable =\n",
              "            await google.colab.kernel.invokeFunction('convertToInteractive',\n",
              "                                                     [key], {});\n",
              "          if (!dataTable) return;\n",
              "\n",
              "          const docLinkHtml = 'Like what you see? Visit the ' +\n",
              "            '<a target=\"_blank\" href=https://colab.research.google.com/notebooks/data_table.ipynb>data table notebook</a>'\n",
              "            + ' to learn more about interactive tables.';\n",
              "          element.innerHTML = '';\n",
              "          dataTable['output_type'] = 'display_data';\n",
              "          await google.colab.output.renderOutput(dataTable, element);\n",
              "          const docLink = document.createElement('div');\n",
              "          docLink.innerHTML = docLinkHtml;\n",
              "          element.appendChild(docLink);\n",
              "        }\n",
              "      </script>\n",
              "    </div>\n",
              "  </div>\n",
              "  "
            ]
          },
          "metadata": {},
          "execution_count": 24
        }
      ]
    },
    {
      "cell_type": "code",
      "source": [
        "pd.DataFrame(round(df1.groupby('k_cluster').count(),1))"
      ],
      "metadata": {
        "colab": {
          "base_uri": "https://localhost:8080/",
          "height": 239
        },
        "id": "GE8LgXggGvSR",
        "outputId": "8688cb6b-24da-4a86-b54d-e60a2751d23f"
      },
      "execution_count": 25,
      "outputs": [
        {
          "output_type": "execute_result",
          "data": {
            "text/plain": [
              "            ID#  Balance  Qual_miles  cc1_miles  cc2_miles  cc3_miles  \\\n",
              "k_cluster                                                               \n",
              "1          2525     2525        2525       2525       2525       2525   \n",
              "2          1310     1310        1310       1310       1310       1310   \n",
              "3           164      164         164        164        164        164   \n",
              "\n",
              "           Bonus_miles  Bonus_trans  Flight_miles_12mo  Flight_trans_12  \\\n",
              "k_cluster                                                                 \n",
              "1                 2525         2525               2525             2525   \n",
              "2                 1310         1310               1310             1310   \n",
              "3                  164          164                164              164   \n",
              "\n",
              "           Days_since_enroll  Award?  \n",
              "k_cluster                             \n",
              "1                       2525    2525  \n",
              "2                       1310    1310  \n",
              "3                        164     164  "
            ],
            "text/html": [
              "\n",
              "  <div id=\"df-c3c072c2-534c-4c79-9599-f9894ee09dfb\">\n",
              "    <div class=\"colab-df-container\">\n",
              "      <div>\n",
              "<style scoped>\n",
              "    .dataframe tbody tr th:only-of-type {\n",
              "        vertical-align: middle;\n",
              "    }\n",
              "\n",
              "    .dataframe tbody tr th {\n",
              "        vertical-align: top;\n",
              "    }\n",
              "\n",
              "    .dataframe thead th {\n",
              "        text-align: right;\n",
              "    }\n",
              "</style>\n",
              "<table border=\"1\" class=\"dataframe\">\n",
              "  <thead>\n",
              "    <tr style=\"text-align: right;\">\n",
              "      <th></th>\n",
              "      <th>ID#</th>\n",
              "      <th>Balance</th>\n",
              "      <th>Qual_miles</th>\n",
              "      <th>cc1_miles</th>\n",
              "      <th>cc2_miles</th>\n",
              "      <th>cc3_miles</th>\n",
              "      <th>Bonus_miles</th>\n",
              "      <th>Bonus_trans</th>\n",
              "      <th>Flight_miles_12mo</th>\n",
              "      <th>Flight_trans_12</th>\n",
              "      <th>Days_since_enroll</th>\n",
              "      <th>Award?</th>\n",
              "    </tr>\n",
              "    <tr>\n",
              "      <th>k_cluster</th>\n",
              "      <th></th>\n",
              "      <th></th>\n",
              "      <th></th>\n",
              "      <th></th>\n",
              "      <th></th>\n",
              "      <th></th>\n",
              "      <th></th>\n",
              "      <th></th>\n",
              "      <th></th>\n",
              "      <th></th>\n",
              "      <th></th>\n",
              "      <th></th>\n",
              "    </tr>\n",
              "  </thead>\n",
              "  <tbody>\n",
              "    <tr>\n",
              "      <th>1</th>\n",
              "      <td>2525</td>\n",
              "      <td>2525</td>\n",
              "      <td>2525</td>\n",
              "      <td>2525</td>\n",
              "      <td>2525</td>\n",
              "      <td>2525</td>\n",
              "      <td>2525</td>\n",
              "      <td>2525</td>\n",
              "      <td>2525</td>\n",
              "      <td>2525</td>\n",
              "      <td>2525</td>\n",
              "      <td>2525</td>\n",
              "    </tr>\n",
              "    <tr>\n",
              "      <th>2</th>\n",
              "      <td>1310</td>\n",
              "      <td>1310</td>\n",
              "      <td>1310</td>\n",
              "      <td>1310</td>\n",
              "      <td>1310</td>\n",
              "      <td>1310</td>\n",
              "      <td>1310</td>\n",
              "      <td>1310</td>\n",
              "      <td>1310</td>\n",
              "      <td>1310</td>\n",
              "      <td>1310</td>\n",
              "      <td>1310</td>\n",
              "    </tr>\n",
              "    <tr>\n",
              "      <th>3</th>\n",
              "      <td>164</td>\n",
              "      <td>164</td>\n",
              "      <td>164</td>\n",
              "      <td>164</td>\n",
              "      <td>164</td>\n",
              "      <td>164</td>\n",
              "      <td>164</td>\n",
              "      <td>164</td>\n",
              "      <td>164</td>\n",
              "      <td>164</td>\n",
              "      <td>164</td>\n",
              "      <td>164</td>\n",
              "    </tr>\n",
              "  </tbody>\n",
              "</table>\n",
              "</div>\n",
              "      <button class=\"colab-df-convert\" onclick=\"convertToInteractive('df-c3c072c2-534c-4c79-9599-f9894ee09dfb')\"\n",
              "              title=\"Convert this dataframe to an interactive table.\"\n",
              "              style=\"display:none;\">\n",
              "        \n",
              "  <svg xmlns=\"http://www.w3.org/2000/svg\" height=\"24px\"viewBox=\"0 0 24 24\"\n",
              "       width=\"24px\">\n",
              "    <path d=\"M0 0h24v24H0V0z\" fill=\"none\"/>\n",
              "    <path d=\"M18.56 5.44l.94 2.06.94-2.06 2.06-.94-2.06-.94-.94-2.06-.94 2.06-2.06.94zm-11 1L8.5 8.5l.94-2.06 2.06-.94-2.06-.94L8.5 2.5l-.94 2.06-2.06.94zm10 10l.94 2.06.94-2.06 2.06-.94-2.06-.94-.94-2.06-.94 2.06-2.06.94z\"/><path d=\"M17.41 7.96l-1.37-1.37c-.4-.4-.92-.59-1.43-.59-.52 0-1.04.2-1.43.59L10.3 9.45l-7.72 7.72c-.78.78-.78 2.05 0 2.83L4 21.41c.39.39.9.59 1.41.59.51 0 1.02-.2 1.41-.59l7.78-7.78 2.81-2.81c.8-.78.8-2.07 0-2.86zM5.41 20L4 18.59l7.72-7.72 1.47 1.35L5.41 20z\"/>\n",
              "  </svg>\n",
              "      </button>\n",
              "      \n",
              "  <style>\n",
              "    .colab-df-container {\n",
              "      display:flex;\n",
              "      flex-wrap:wrap;\n",
              "      gap: 12px;\n",
              "    }\n",
              "\n",
              "    .colab-df-convert {\n",
              "      background-color: #E8F0FE;\n",
              "      border: none;\n",
              "      border-radius: 50%;\n",
              "      cursor: pointer;\n",
              "      display: none;\n",
              "      fill: #1967D2;\n",
              "      height: 32px;\n",
              "      padding: 0 0 0 0;\n",
              "      width: 32px;\n",
              "    }\n",
              "\n",
              "    .colab-df-convert:hover {\n",
              "      background-color: #E2EBFA;\n",
              "      box-shadow: 0px 1px 2px rgba(60, 64, 67, 0.3), 0px 1px 3px 1px rgba(60, 64, 67, 0.15);\n",
              "      fill: #174EA6;\n",
              "    }\n",
              "\n",
              "    [theme=dark] .colab-df-convert {\n",
              "      background-color: #3B4455;\n",
              "      fill: #D2E3FC;\n",
              "    }\n",
              "\n",
              "    [theme=dark] .colab-df-convert:hover {\n",
              "      background-color: #434B5C;\n",
              "      box-shadow: 0px 1px 3px 1px rgba(0, 0, 0, 0.15);\n",
              "      filter: drop-shadow(0px 1px 2px rgba(0, 0, 0, 0.3));\n",
              "      fill: #FFFFFF;\n",
              "    }\n",
              "  </style>\n",
              "\n",
              "      <script>\n",
              "        const buttonEl =\n",
              "          document.querySelector('#df-c3c072c2-534c-4c79-9599-f9894ee09dfb button.colab-df-convert');\n",
              "        buttonEl.style.display =\n",
              "          google.colab.kernel.accessAllowed ? 'block' : 'none';\n",
              "\n",
              "        async function convertToInteractive(key) {\n",
              "          const element = document.querySelector('#df-c3c072c2-534c-4c79-9599-f9894ee09dfb');\n",
              "          const dataTable =\n",
              "            await google.colab.kernel.invokeFunction('convertToInteractive',\n",
              "                                                     [key], {});\n",
              "          if (!dataTable) return;\n",
              "\n",
              "          const docLinkHtml = 'Like what you see? Visit the ' +\n",
              "            '<a target=\"_blank\" href=https://colab.research.google.com/notebooks/data_table.ipynb>data table notebook</a>'\n",
              "            + ' to learn more about interactive tables.';\n",
              "          element.innerHTML = '';\n",
              "          dataTable['output_type'] = 'display_data';\n",
              "          await google.colab.output.renderOutput(dataTable, element);\n",
              "          const docLink = document.createElement('div');\n",
              "          docLink.innerHTML = docLinkHtml;\n",
              "          element.appendChild(docLink);\n",
              "        }\n",
              "      </script>\n",
              "    </div>\n",
              "  </div>\n",
              "  "
            ]
          },
          "metadata": {},
          "execution_count": 25
        }
      ]
    },
    {
      "cell_type": "code",
      "source": [
        "plt.scatter(X[:, 0], X[:, 1], c=k_means, s=50, cmap='viridis')"
      ],
      "metadata": {
        "colab": {
          "base_uri": "https://localhost:8080/",
          "height": 282
        },
        "id": "B4Lb2fcaGzLF",
        "outputId": "f5b7b151-c2b1-4f78-8fa4-465d8f4aa9c2"
      },
      "execution_count": 26,
      "outputs": [
        {
          "output_type": "execute_result",
          "data": {
            "text/plain": [
              "<matplotlib.collections.PathCollection at 0x7fa004a94c90>"
            ]
          },
          "metadata": {},
          "execution_count": 26
        },
        {
          "output_type": "display_data",
          "data": {
            "text/plain": [
              "<Figure size 432x288 with 1 Axes>"
            ],
            "image/png": "[encoded data removed]"
          },
          "metadata": {
            "needs_background": "light"
          }
        }
      ]
    },
    {
      "cell_type": "markdown",
      "source": [
        "# **5 - Conclusion**\n",
        "From the above data generated from K-Means clustering, we can see Cluster-1 has around 63% total travelers and cluster 2 has 33% of the travelers. We will target cluster 1 & 2. Cluster 1 contains less frequent or first time travellers, by giving them discount provided they travel more than twice or thrice and introduce more offer if they register or take the membership."
      ],
      "metadata": {
        "id": "P1g5QBdgHBHb"
      }
    },
    {
      "cell_type": "code",
      "source": [],
      "metadata": {
        "id": "ViKRH9BQHHf0"
      },
      "execution_count": null,
      "outputs": []
    },
    {
      "cell_type": "code",
      "source": [],
      "metadata": {
        "id": "vMptO0uUG1sV"
      },
      "execution_count": null,
      "outputs": []
    },
    {
      "cell_type": "code",
      "source": [],
      "metadata": {
        "id": "lHcMA78uGpSP"
      },
      "execution_count": null,
      "outputs": []
    },
    {
      "cell_type": "code",
      "source": [],
      "metadata": {
        "id": "Ks6o2uy0Gi_q"
      },
      "execution_count": null,
      "outputs": []
    },
    {
      "cell_type": "code",
      "source": [],
      "metadata": {
        "id": "JFPXQh2OGL58"
      },
      "execution_count": null,
      "outputs": []
    },
    {
      "cell_type": "code",
      "source": [],
      "metadata": {
        "id": "FKfl0sMOFF_g"
      },
      "execution_count": null,
      "outputs": []
    },
    {
      "cell_type": "code",
      "source": [],
      "metadata": {
        "id": "DPZvOomYE9Zs"
      },
      "execution_count": null,
      "outputs": []
    },
    {
      "cell_type": "code",
      "source": [],
      "metadata": {
        "id": "AYrDYK4sEfax"
      },
      "execution_count": null,
      "outputs": []
    },
    {
      "cell_type": "code",
      "source": [],
      "metadata": {
        "id": "t34Btev7EHJP"
      },
      "execution_count": null,
      "outputs": []
    }
  ]
}